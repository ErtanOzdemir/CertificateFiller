{
 "cells": [
  {
   "cell_type": "markdown",
   "metadata": {},
   "source": [
    "# Certificate Filler \n",
    "\n",
    "<span style=\"font-size:12pt;\">If you have certificate template in **.docx** format and you have **.csv** file which include users datas like mails, names, surnames, it may very hard to enter all these informations to certificate one by one.  </span>\n",
    "\n",
    "<span style=\"font-size:12pt;\">This script help you to fill **Name Surname area, Date area and many more areas** in your **.docx** template. Additionally you can save all these user's cerficates in where do you want and send your users via e-mail. </span>\n",
    "\n",
    "---\n",
    "## User Guide\n",
    "\n",
    "### Installation\n",
    "\n",
    "<span style=\"font-size:12pt;\"> This script requires **pandas** and **docxtpl** libraries. Therefore you bound to install these libraries before use codes.  </span>\n"
   ]
  },
  {
   "cell_type": "code",
   "execution_count": null,
   "metadata": {},
   "outputs": [],
   "source": [
    "!pip install docxtpl\n",
    "!pip install pandas"
   ]
  },
  {
   "cell_type": "markdown",
   "metadata": {},
   "source": [
    "<span style=\"font-size:12pt;\"> Let's `import` these libraries.  </span>"
   ]
  },
  {
   "cell_type": "code",
   "execution_count": null,
   "metadata": {},
   "outputs": [],
   "source": [
    "from docxtpl import DocxTemplate\n",
    "import pandas as pd"
   ]
  },
  {
   "cell_type": "markdown",
   "metadata": {},
   "source": [
    "<span style=\"font-size:12pt;\"> `welcomeText` variable greets you and includes some informations. You can use this variable. It's up to you.</span>"
   ]
  },
  {
   "cell_type": "code",
   "execution_count": null,
   "metadata": {},
   "outputs": [],
   "source": [
    "welcomeText = \"\"\"Hello user, welcome to Certificate Generator!\n",
    "\n",
    "This generator simply fills name, surname and date informations in your .docx Certificate templates.\\nYou can modify the source code, if you want.\n",
    "Before use this program, you have to know some basic informations:\\n\n",
    "\\t1- You have to have .csv files which includes your users datas.\n",
    "\\t2- I suggest to you add IDENTIFIERS column and identifier numbers in .csv file for correspond your each \n",
    "           users.Thus you can create unique named .docx certificates.\n",
    "           \n",
    "           \"\"\"\n",
    "\n",
    "print(welcomeText)"
   ]
  },
  {
   "cell_type": "markdown",
   "metadata": {},
   "source": [
    "<span style=\"font-size:12pt;\"> `csvFile`,`docxTemplate`and`outputPath` includes paths about related files. When you fill these areas please use full paths of your files otherwise this script won't work. **It was very important point.**</span>"
   ]
  },
  {
   "cell_type": "code",
   "execution_count": null,
   "metadata": {},
   "outputs": [],
   "source": [
    "csvFile = input(\"Please enter full path of your .csv file: \") \n",
    "# Example Path: /home/ertan/Masaüstü/CertificateGenerator/email.csv\n",
    "\n",
    "docxTemplate = input(\"Please enter full path of your .docx template: \")\n",
    "# Example Path: /home/ertan//Masaüstü/CertificateGenerator/Certificate.docx\n",
    "\n",
    "outputPath = input(\"Please enter full path of your output files: \") \n",
    "# Example Path: /home/ertan/Masaüstü/CertificateGenerator"
   ]
  },
  {
   "cell_type": "markdown",
   "metadata": {},
   "source": [
    "<span style=\"font-size:12pt;\">The code which is in this section fills related blanks in your .docx template then it saves all output files to path that you defined above.</span>"
   ]
  },
  {
   "cell_type": "code",
   "execution_count": null,
   "metadata": {},
   "outputs": [],
   "source": [
    "usersAndMails = pd.read_csv(csvFile)\n",
    "\n",
    "for row in range(len(usersAndMails.index)):\n",
    "    \n",
    "    document = DocxTemplate(docxTemplate)\n",
    "    context = { 'name': usersAndMails['FirstName'][row]}\n",
    "    \n",
    "    document.render(context)\n",
    "    document.save('{}/{}.docx'.format(outputPath,usersAndMails['Identifier'][row]))"
   ]
  },
  {
   "cell_type": "markdown",
   "metadata": {},
   "source": [
    "---\n",
    "### How to Use?\n"
   ]
  },
  {
   "cell_type": "markdown",
   "metadata": {},
   "source": [
    "<span style=\"font-size:12pt;\">After you did all things at the above, your code should be look like this;</span>"
   ]
  },
  {
   "cell_type": "code",
   "execution_count": null,
   "metadata": {},
   "outputs": [],
   "source": [
    "from docxtpl import DocxTemplate\n",
    "import pandas as pd\n",
    "\n",
    "welcomeText = \"\"\"Hello user, welcome to Certificate Generator!\n",
    "\n",
    "This generator simply fills name, surname and date informations in your .docx Certificate templates.\\nYou can modify the source code, if you want.\n",
    "Before use this program, you have to know some basic informations:\\n\n",
    "\\t1- You have to have .csv files which includes your users datas.\n",
    "\\t2- I suggest to you add IDENTIFIERS column and identifier numbers in .csv file for correspond your each \n",
    "           users.Thus you can create unique named .docx certificates.\n",
    "           \n",
    "           \"\"\"\n",
    "\n",
    "print(welcomeText)\n",
    "\n",
    "csvFile = input(\"Please enter full path of your .csv file: \") \n",
    "# Example Path: /home/ertan/Masaüstü/CertificateGenerator/email.csv\n",
    "\n",
    "docxTemplate = input(\"Please enter full path of your .docx template: \")\n",
    "# Example Path: /home/ertan//Masaüstü/CertificateGenerator/Certificate.docx\n",
    "\n",
    "outputPath = input(\"Please enter full path of your output files: \") \n",
    "# Example Path: /home/ertan/Masaüstü/CertificateGenerator\n",
    "\n",
    "usersAndMails = pd.read_csv(csvFile)\n",
    "\n",
    "for row in range(len(usersAndMails.index)):\n",
    "    \n",
    "    document = DocxTemplate(docxTemplate)\n",
    "    context = { 'name': usersAndMails['FirstName'][row]}\n",
    "    \n",
    "    document.render(context)\n",
    "    document.save('{}/{}.docx'.format(outputPath,usersAndMails['Identifier'][row]))"
   ]
  },
  {
   "cell_type": "code",
   "execution_count": null,
   "metadata": {},
   "outputs": [],
   "source": []
  }
 ],
 "metadata": {
  "kernelspec": {
   "display_name": "Python 3",
   "language": "python",
   "name": "python3"
  },
  "language_info": {
   "codemirror_mode": {
    "name": "ipython",
    "version": 3
   },
   "file_extension": ".py",
   "mimetype": "text/x-python",
   "name": "python",
   "nbconvert_exporter": "python",
   "pygments_lexer": "ipython3",
   "version": "3.7.3"
  }
 },
 "nbformat": 4,
 "nbformat_minor": 2
}
